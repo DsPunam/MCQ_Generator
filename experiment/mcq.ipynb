{
 "cells": [
  {
   "cell_type": "code",
   "execution_count": 39,
   "metadata": {},
   "outputs": [],
   "source": [
    "import os\n",
    "import json\n",
    "import pandas as pd \n",
    "import traceback"
   ]
  },
  {
   "cell_type": "code",
   "execution_count": 2,
   "metadata": {},
   "outputs": [],
   "source": [
    "from langchain.chat_models import ChatOpenAI"
   ]
  },
  {
   "cell_type": "code",
   "execution_count": 3,
   "metadata": {},
   "outputs": [],
   "source": [
    "key=os.getenv(\"OPENAI_API_KEY\")"
   ]
  },
  {
   "cell_type": "code",
   "execution_count": 4,
   "metadata": {},
   "outputs": [
    {
     "data": {
      "text/plain": [
       "True"
      ]
     },
     "execution_count": 4,
     "metadata": {},
     "output_type": "execute_result"
    }
   ],
   "source": [
    "from dotenv import load_dotenv\n",
    "load_dotenv()"
   ]
  },
  {
   "cell_type": "code",
   "execution_count": 5,
   "metadata": {},
   "outputs": [
    {
     "name": "stderr",
     "output_type": "stream",
     "text": [
      "c:\\Users\\USER\\anaconda3\\Lib\\site-packages\\langchain_core\\_api\\deprecation.py:119: LangChainDeprecationWarning: The class `ChatOpenAI` was deprecated in LangChain 0.0.10 and will be removed in 0.3.0. An updated version of the class exists in the langchain-openai package and should be used instead. To use it run `pip install -U langchain-openai` and import as `from langchain_openai import ChatOpenAI`.\n",
      "  warn_deprecated(\n"
     ]
    }
   ],
   "source": [
    "llm=ChatOpenAI(openai_api_key=key,model_name='gpt-3.5-turbo',temperature=0.6)"
   ]
  },
  {
   "cell_type": "code",
   "execution_count": 6,
   "metadata": {},
   "outputs": [],
   "source": [
    "from langchain.prompts import PromptTemplate\n",
    "from langchain.chains import LLMChain,SequentialChain"
   ]
  },
  {
   "cell_type": "code",
   "execution_count": 59,
   "metadata": {},
   "outputs": [],
   "source": [
    "response_json={\n",
    "    1:{\"mcq\":\"question will be here\",\n",
    "     \"options\": {\n",
    "            'a':\"first option\",\n",
    "            'b':\"second option\",\n",
    "            'c':\"third option\",\n",
    "            'd':\"fourth option\"\n",
    "        },\n",
    "    \n",
    "    \"correct\":\"correct option\"\n",
    "    },\n",
    "    2:{\"mcq\":\"question will be here\",\n",
    "     \"options\": {\n",
    "            'a':\"first option\",\n",
    "            'b':\"second option\",\n",
    "            'c':\"third option\",\n",
    "            'd':\"fourth option\"\n",
    "        },\n",
    "    \n",
    "    \"correct\":\"correct option\"\n",
    "    }\n",
    "}"
   ]
  },
  {
   "cell_type": "code",
   "execution_count": 60,
   "metadata": {},
   "outputs": [],
   "source": [
    "template1=\"{text}.you have a text.now your task is to generate {number} mcq questions from this above text for {subject} student in {tone} tone.make sure that no mcq question is repeated and the questions are only from the above text.for generating mcq questions you have to follow the below response_json format.{response_json}\""
   ]
  },
  {
   "cell_type": "code",
   "execution_count": 61,
   "metadata": {},
   "outputs": [],
   "source": [
    "quiz_generation_prompt1=PromptTemplate(\n",
    "    input_variables=[\"text\",\"number\",\"subject\",\"tone\",\"response_json\"],\n",
    "    template=template1\n",
    ")"
   ]
  },
  {
   "cell_type": "code",
   "execution_count": 62,
   "metadata": {},
   "outputs": [],
   "source": [
    "quiz=LLMChain(llm=llm,prompt=quiz_generation_prompt1,output_key=\"quiz\")"
   ]
  },
  {
   "cell_type": "code",
   "execution_count": 63,
   "metadata": {},
   "outputs": [],
   "source": [
    "template2=\"You are an expert english grammarian and writer. Given a Multiple Choice Quiz for {subject} students.You need to evaluate the complexity of the question and give a complete analysis of the quiz. Only use at max 50 words for complexity analysis.if the quiz is not at per with the cognitive and analytical abilities of the students,update the quiz questions which needs to be changed and change the tone such that it perfectly fits the student abilities. Quiz_MCQs:{quiz}\""
   ]
  },
  {
   "cell_type": "code",
   "execution_count": 64,
   "metadata": {},
   "outputs": [],
   "source": [
    "correct_answer_generation_prompt2=PromptTemplate(\n",
    "    input_variables=[\"subject\",\"quiz\"],\n",
    "    template=template2\n",
    ")"
   ]
  },
  {
   "cell_type": "code",
   "execution_count": 65,
   "metadata": {},
   "outputs": [],
   "source": [
    "answer=LLMChain(llm=llm,prompt=correct_answer_generation_prompt2,output_key=\"review\")"
   ]
  },
  {
   "cell_type": "code",
   "execution_count": 66,
   "metadata": {},
   "outputs": [],
   "source": [
    "mcq_chain=SequentialChain(chains=[quiz,answer],input_variables=[\"text\",\"number\",\"subject\",\"tone\",\"response_json\"],output_variables=[\"quiz\",\"review\"])"
   ]
  },
  {
   "cell_type": "code",
   "execution_count": 67,
   "metadata": {},
   "outputs": [],
   "source": [
    "path=r'C:\\Users\\USER\\mcqgen\\data.txt'\n",
    "with open(path, 'r') as file:\n",
    "    text=file.read()"
   ]
  },
  {
   "cell_type": "code",
   "execution_count": 68,
   "metadata": {},
   "outputs": [],
   "source": [
    "mcq=mcq_chain({\"text\":text,\"number\":7,\"subject\":\"Data Science\",\"tone\":\"simple\",\"response_json\":response_json})\n",
    "quiz_table=mcq['quiz']"
   ]
  },
  {
   "cell_type": "code",
   "execution_count": 69,
   "metadata": {},
   "outputs": [
    {
     "name": "stdout",
     "output_type": "stream",
     "text": [
      "                                                 mcq  \\\n",
      "1  Which type of data analysis focuses on underst...   \n",
      "2  What type of data analysis uses historical dat...   \n",
      "3  What type of analysis not only predicts what i...   \n",
      "4  Which technique is characterized by data visua...   \n",
      "5  What technique involves computers being traine...   \n",
      "6  Which type of analysis involves deep-dive or d...   \n",
      "7  What technique uses graph analysis, simulation...   \n",
      "\n",
      "                                             options correct  \n",
      "1  {'a': 'Descriptive analysis', 'b': 'Diagnostic...       b  \n",
      "2  {'a': 'Descriptive analysis', 'b': 'Diagnostic...       c  \n",
      "3  {'a': 'Descriptive analysis', 'b': 'Diagnostic...       d  \n",
      "4  {'a': 'Drill-down', 'b': 'Data mining', 'c': '...       d  \n",
      "5  {'a': 'Machine learning', 'b': 'Forecasting', ...       a  \n",
      "6  {'a': 'Descriptive analysis', 'b': 'Diagnostic...       b  \n",
      "7  {'a': 'Data mining', 'b': 'Prescriptive analyt...       b  \n"
     ]
    }
   ],
   "source": [
    "df=pd.DataFrame(eval(quiz_table))\n",
    "my_quiz_table=df.transpose()\n",
    "print(my_quiz_table)"
   ]
  },
  {
   "cell_type": "code",
   "execution_count": 70,
   "metadata": {},
   "outputs": [],
   "source": [
    "my_quiz_table.to_csv(\"Data_Science_Quiz.csv\")"
   ]
  },
  {
   "cell_type": "code",
   "execution_count": null,
   "metadata": {},
   "outputs": [],
   "source": []
  }
 ],
 "metadata": {
  "kernelspec": {
   "display_name": "base",
   "language": "python",
   "name": "python3"
  },
  "language_info": {
   "codemirror_mode": {
    "name": "ipython",
    "version": 3
   },
   "file_extension": ".py",
   "mimetype": "text/x-python",
   "name": "python",
   "nbconvert_exporter": "python",
   "pygments_lexer": "ipython3",
   "version": "3.11.7"
  }
 },
 "nbformat": 4,
 "nbformat_minor": 2
}
