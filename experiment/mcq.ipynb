{
 "cells": [
  {
   "cell_type": "code",
   "execution_count": 42,
   "metadata": {},
   "outputs": [],
   "source": [
    "import os\n",
    "import json\n",
    "import pandas as pd \n",
    "import traceback"
   ]
  },
  {
   "cell_type": "code",
   "execution_count": 43,
   "metadata": {},
   "outputs": [],
   "source": [
    "from langchain.chat_models import ChatOpenAI"
   ]
  },
  {
   "cell_type": "code",
   "execution_count": 44,
   "metadata": {},
   "outputs": [],
   "source": [
    "key=os.getenv(\"OPENAI_API_KEY\")"
   ]
  },
  {
   "cell_type": "code",
   "execution_count": 45,
   "metadata": {},
   "outputs": [
    {
     "data": {
      "text/plain": [
       "True"
      ]
     },
     "execution_count": 45,
     "metadata": {},
     "output_type": "execute_result"
    }
   ],
   "source": [
    "from dotenv import load_dotenv\n",
    "load_dotenv()"
   ]
  },
  {
   "cell_type": "code",
   "execution_count": 46,
   "metadata": {},
   "outputs": [],
   "source": [
    "llm=ChatOpenAI(openai_api_key=key,model_name='gpt-3.5-turbo',temperature=0.6)"
   ]
  },
  {
   "cell_type": "code",
   "execution_count": 47,
   "metadata": {},
   "outputs": [],
   "source": [
    "from langchain.prompts import PromptTemplate\n",
    "from langchain.chains import LLMChain,SequentialChain"
   ]
  },
  {
   "cell_type": "code",
   "execution_count": 48,
   "metadata": {},
   "outputs": [],
   "source": [
    "response_json={\n",
    "    1:{\"mcq\":\"question will be here\",\n",
    "     \"options\": {\n",
    "            'a':\"first option\",\n",
    "            'b':\"second option\",\n",
    "            'c':\"third option\",\n",
    "            'd':\"fourth option\"\n",
    "        },\n",
    "    \n",
    "    \"correct\":\"correct option\"\n",
    "    },\n",
    "    2:{\"mcq\":\"question will be here\",\n",
    "     \"options\": {\n",
    "            'a':\"first option\",\n",
    "            'b':\"second option\",\n",
    "            'c':\"third option\",\n",
    "            'd':\"fourth option\"\n",
    "        },\n",
    "    \n",
    "    \"correct\":\"correct option\"\n",
    "    }\n",
    "}"
   ]
  },
  {
   "cell_type": "code",
   "execution_count": 49,
   "metadata": {},
   "outputs": [],
   "source": [
    "template1=\"{text}.you have a text.now your task is to generate {number} mcq questions from this above text for {subject} student in {tone} tone.make sure that no mcq question is repeated and the questions are only from the above text.for generating mcq questions you have to follow the below response_json format.{response_json}\""
   ]
  },
  {
   "cell_type": "code",
   "execution_count": 50,
   "metadata": {},
   "outputs": [],
   "source": [
    "quiz_generation_prompt1=PromptTemplate(\n",
    "    input_variables=[\"text\",\"number\",\"subject\",\"tone\",\"response_json\"],\n",
    "    template=template1\n",
    ")"
   ]
  },
  {
   "cell_type": "code",
   "execution_count": 51,
   "metadata": {},
   "outputs": [],
   "source": [
    "quiz=LLMChain(llm=llm,prompt=quiz_generation_prompt1,output_key=\"quiz\")"
   ]
  },
  {
   "cell_type": "code",
   "execution_count": 52,
   "metadata": {},
   "outputs": [],
   "source": [
    "template2=\"You are an expert english grammarian and writer. Given a Multiple Choice Quiz for {subject} students.You need to evaluate the complexity of the question and give a complete analysis of the quiz. Only use at max 50 words for complexity analysis.if the quiz is not at per with the cognitive and analytical abilities of the students,update the quiz questions which needs to be changed and change the tone such that it perfectly fits the student abilities. Quiz_MCQs:{quiz}\""
   ]
  },
  {
   "cell_type": "code",
   "execution_count": 53,
   "metadata": {},
   "outputs": [],
   "source": [
    "correct_answer_generation_prompt2=PromptTemplate(\n",
    "    input_variables=[\"subject\",\"quiz\"],\n",
    "    template=template2\n",
    ")"
   ]
  },
  {
   "cell_type": "code",
   "execution_count": 54,
   "metadata": {},
   "outputs": [],
   "source": [
    "answer=LLMChain(llm=llm,prompt=correct_answer_generation_prompt2,output_key=\"review\")"
   ]
  },
  {
   "cell_type": "code",
   "execution_count": 55,
   "metadata": {},
   "outputs": [],
   "source": [
    "mcq_chain=SequentialChain(chains=[quiz,answer],input_variables=[\"text\",\"number\",\"subject\",\"tone\",\"response_json\"],output_variables=[\"quiz\",\"review\"])"
   ]
  },
  {
   "cell_type": "code",
   "execution_count": 56,
   "metadata": {},
   "outputs": [],
   "source": [
    "path=r'C:\\Users\\USER\\mcqgen\\data.txt'\n",
    "with open(path, 'r') as file:\n",
    "    text=file.read()"
   ]
  },
  {
   "cell_type": "code",
   "execution_count": 57,
   "metadata": {},
   "outputs": [
    {
     "data": {
      "text/plain": [
       "{1: {'mcq': 'question will be here',\n",
       "  'options': {'a': 'first option',\n",
       "   'b': 'second option',\n",
       "   'c': 'third option',\n",
       "   'd': 'fourth option'},\n",
       "  'correct': 'correct option'},\n",
       " 2: {'mcq': 'question will be here',\n",
       "  'options': {'a': 'first option',\n",
       "   'b': 'second option',\n",
       "   'c': 'third option',\n",
       "   'd': 'fourth option'},\n",
       "  'correct': 'correct option'}}"
      ]
     },
     "execution_count": 57,
     "metadata": {},
     "output_type": "execute_result"
    }
   ],
   "source": [
    "response_json"
   ]
  },
  {
   "cell_type": "code",
   "execution_count": 58,
   "metadata": {},
   "outputs": [
    {
     "data": {
      "text/plain": [
       "'{\"1\": {\"mcq\": \"question will be here\", \"options\": {\"a\": \"first option\", \"b\": \"second option\", \"c\": \"third option\", \"d\": \"fourth option\"}, \"correct\": \"correct option\"}, \"2\": {\"mcq\": \"question will be here\", \"options\": {\"a\": \"first option\", \"b\": \"second option\", \"c\": \"third option\", \"d\": \"fourth option\"}, \"correct\": \"correct option\"}}'"
      ]
     },
     "execution_count": 58,
     "metadata": {},
     "output_type": "execute_result"
    }
   ],
   "source": [
    "json.dumps(response_json)"
   ]
  },
  {
   "cell_type": "code",
   "execution_count": 59,
   "metadata": {},
   "outputs": [
    {
     "name": "stdout",
     "output_type": "stream",
     "text": [
      "{\n",
      "\"1\": {\n",
      "\"mcq\": \"What type of data analysis examines data to gain insights into what happened or what is happening in the data environment?\",\n",
      "\"options\": {\n",
      "\"a\": \"Descriptive analysis\",\n",
      "\"b\": \"Diagnostic analysis\",\n",
      "\"c\": \"Predictive analysis\",\n",
      "\"d\": \"Prescriptive analysis\"\n",
      "},\n",
      "\"correct\": \"a\"\n",
      "},\n",
      "\"2\": {\n",
      "\"mcq\": \"Which type of data analysis involves a deep-dive or detailed examination to understand why something happened?\",\n",
      "\"options\": {\n",
      "\"a\": \"Descriptive analysis\",\n",
      "\"b\": \"Diagnostic analysis\",\n",
      "\"c\": \"Predictive analysis\",\n",
      "\"d\": \"Prescriptive analysis\"\n",
      "},\n",
      "\"correct\": \"b\"\n",
      "},\n",
      "\"3\": {\n",
      "\"mcq\": \"Which type of data analysis uses historical data to make accurate forecasts about data patterns that may occur in the future?\",\n",
      "\"options\": {\n",
      "\"a\": \"Descriptive analysis\",\n",
      "\"b\": \"Diagnostic analysis\",\n",
      "\"c\": \"Predictive analysis\",\n",
      "\"d\": \"Prescriptive analysis\"\n",
      "},\n",
      "\"correct\": \"c\"\n",
      "},\n",
      "\"4\": {\n",
      "\"mcq\": \"What type of data analysis suggests an optimum response to the predicted outcome?\",\n",
      "\"options\": {\n",
      "\"a\": \"Descriptive analysis\",\n",
      "\"b\": \"Diagnostic analysis\",\n",
      "\"c\": \"Predictive analysis\",\n",
      "\"d\": \"Prescriptive analysis\"\n",
      "},\n",
      "\"correct\": \"d\"\n",
      "},\n",
      "\"5\": {\n",
      "\"mcq\": \"Which technique is used in prescriptive analysis to recommend the best course of action?\",\n",
      "\"options\": {\n",
      "\"a\": \"Machine learning\",\n",
      "\"b\": \"Data mining\",\n",
      "\"c\": \"Forecasting\",\n",
      "\"d\": \"Neural networks\"\n",
      "},\n",
      "\"correct\": \"a\"\n",
      "},\n",
      "\"6\": {\n",
      "\"mcq\": \"What technique is used in predictive analysis to make accurate forecasts about future data patterns?\",\n",
      "\"options\": {\n",
      "\"a\": \"Data discovery\",\n",
      "\"b\": \"Pattern matching\",\n",
      "\"c\": \"Machine learning\",\n",
      "\"d\": \"Correlations\"\n",
      "},\n",
      "\"correct\": \"c\"\n",
      "},\n",
      "\"7\": {\n",
      "\"mcq\": \"What type of analysis would a flight booking service use to predict flight booking patterns for the coming year?\",\n",
      "\"options\": {\n",
      "\"a\": \"Descriptive analysis\",\n",
      "\"b\": \"Diagnostic analysis\",\n",
      "\"c\": \"Predictive analysis\",\n",
      "\"d\": \"Prescriptive analysis\"\n",
      "},\n",
      "\"correct\": \"c\"\n",
      "}\n",
      "}\n"
     ]
    }
   ],
   "source": [
    "mcq=mcq_chain({\"text\":text,\"number\":7,\"subject\":\"Data Science\",\"tone\":\"simple\",\"response_json\":json.dumps(response_json)})\n",
    "quiz_table=mcq.get(\"quiz\")\n",
    "print(quiz_table)\n",
    "quiz_table=json.loads(quiz_table)"
   ]
  },
  {
   "cell_type": "code",
   "execution_count": 60,
   "metadata": {},
   "outputs": [
    {
     "data": {
      "text/plain": [
       "{'1': {'mcq': 'What type of data analysis examines data to gain insights into what happened or what is happening in the data environment?',\n",
       "  'options': {'a': 'Descriptive analysis',\n",
       "   'b': 'Diagnostic analysis',\n",
       "   'c': 'Predictive analysis',\n",
       "   'd': 'Prescriptive analysis'},\n",
       "  'correct': 'a'},\n",
       " '2': {'mcq': 'Which type of data analysis involves a deep-dive or detailed examination to understand why something happened?',\n",
       "  'options': {'a': 'Descriptive analysis',\n",
       "   'b': 'Diagnostic analysis',\n",
       "   'c': 'Predictive analysis',\n",
       "   'd': 'Prescriptive analysis'},\n",
       "  'correct': 'b'},\n",
       " '3': {'mcq': 'Which type of data analysis uses historical data to make accurate forecasts about data patterns that may occur in the future?',\n",
       "  'options': {'a': 'Descriptive analysis',\n",
       "   'b': 'Diagnostic analysis',\n",
       "   'c': 'Predictive analysis',\n",
       "   'd': 'Prescriptive analysis'},\n",
       "  'correct': 'c'},\n",
       " '4': {'mcq': 'What type of data analysis suggests an optimum response to the predicted outcome?',\n",
       "  'options': {'a': 'Descriptive analysis',\n",
       "   'b': 'Diagnostic analysis',\n",
       "   'c': 'Predictive analysis',\n",
       "   'd': 'Prescriptive analysis'},\n",
       "  'correct': 'd'},\n",
       " '5': {'mcq': 'Which technique is used in prescriptive analysis to recommend the best course of action?',\n",
       "  'options': {'a': 'Machine learning',\n",
       "   'b': 'Data mining',\n",
       "   'c': 'Forecasting',\n",
       "   'd': 'Neural networks'},\n",
       "  'correct': 'a'},\n",
       " '6': {'mcq': 'What technique is used in predictive analysis to make accurate forecasts about future data patterns?',\n",
       "  'options': {'a': 'Data discovery',\n",
       "   'b': 'Pattern matching',\n",
       "   'c': 'Machine learning',\n",
       "   'd': 'Correlations'},\n",
       "  'correct': 'c'},\n",
       " '7': {'mcq': 'What type of analysis would a flight booking service use to predict flight booking patterns for the coming year?',\n",
       "  'options': {'a': 'Descriptive analysis',\n",
       "   'b': 'Diagnostic analysis',\n",
       "   'c': 'Predictive analysis',\n",
       "   'd': 'Prescriptive analysis'},\n",
       "  'correct': 'c'}}"
      ]
     },
     "execution_count": 60,
     "metadata": {},
     "output_type": "execute_result"
    }
   ],
   "source": [
    "quiz_table"
   ]
  },
  {
   "cell_type": "code",
   "execution_count": 61,
   "metadata": {},
   "outputs": [],
   "source": [
    "final_quiz_table=[]\n",
    "for key,value in quiz_table.items():\n",
    "    mcq=value['mcq']\n",
    "    options=\" | \".join([f\"{option}: {option_value}\" for option,option_value in value[\"options\"].items()])\n",
    "    correct=value[\"correct\"]\n",
    "\n",
    "    final_quiz_table.append({\"MCQ\":mcq,\"Choices\":options,\"Correct Answer\":correct})"
   ]
  },
  {
   "cell_type": "code",
   "execution_count": 62,
   "metadata": {},
   "outputs": [
    {
     "data": {
      "text/html": [
       "<div>\n",
       "<style scoped>\n",
       "    .dataframe tbody tr th:only-of-type {\n",
       "        vertical-align: middle;\n",
       "    }\n",
       "\n",
       "    .dataframe tbody tr th {\n",
       "        vertical-align: top;\n",
       "    }\n",
       "\n",
       "    .dataframe thead th {\n",
       "        text-align: right;\n",
       "    }\n",
       "</style>\n",
       "<table border=\"1\" class=\"dataframe\">\n",
       "  <thead>\n",
       "    <tr style=\"text-align: right;\">\n",
       "      <th></th>\n",
       "      <th>MCQ</th>\n",
       "      <th>Choices</th>\n",
       "      <th>Correct Answer</th>\n",
       "    </tr>\n",
       "  </thead>\n",
       "  <tbody>\n",
       "    <tr>\n",
       "      <th>0</th>\n",
       "      <td>What type of data analysis examines data to ga...</td>\n",
       "      <td>a: Descriptive analysis | b: Diagnostic analys...</td>\n",
       "      <td>a</td>\n",
       "    </tr>\n",
       "    <tr>\n",
       "      <th>1</th>\n",
       "      <td>Which type of data analysis involves a deep-di...</td>\n",
       "      <td>a: Descriptive analysis | b: Diagnostic analys...</td>\n",
       "      <td>b</td>\n",
       "    </tr>\n",
       "    <tr>\n",
       "      <th>2</th>\n",
       "      <td>Which type of data analysis uses historical da...</td>\n",
       "      <td>a: Descriptive analysis | b: Diagnostic analys...</td>\n",
       "      <td>c</td>\n",
       "    </tr>\n",
       "    <tr>\n",
       "      <th>3</th>\n",
       "      <td>What type of data analysis suggests an optimum...</td>\n",
       "      <td>a: Descriptive analysis | b: Diagnostic analys...</td>\n",
       "      <td>d</td>\n",
       "    </tr>\n",
       "    <tr>\n",
       "      <th>4</th>\n",
       "      <td>Which technique is used in prescriptive analys...</td>\n",
       "      <td>a: Machine learning | b: Data mining | c: Fore...</td>\n",
       "      <td>a</td>\n",
       "    </tr>\n",
       "    <tr>\n",
       "      <th>5</th>\n",
       "      <td>What technique is used in predictive analysis ...</td>\n",
       "      <td>a: Data discovery | b: Pattern matching | c: M...</td>\n",
       "      <td>c</td>\n",
       "    </tr>\n",
       "    <tr>\n",
       "      <th>6</th>\n",
       "      <td>What type of analysis would a flight booking s...</td>\n",
       "      <td>a: Descriptive analysis | b: Diagnostic analys...</td>\n",
       "      <td>c</td>\n",
       "    </tr>\n",
       "  </tbody>\n",
       "</table>\n",
       "</div>"
      ],
      "text/plain": [
       "                                                 MCQ  \\\n",
       "0  What type of data analysis examines data to ga...   \n",
       "1  Which type of data analysis involves a deep-di...   \n",
       "2  Which type of data analysis uses historical da...   \n",
       "3  What type of data analysis suggests an optimum...   \n",
       "4  Which technique is used in prescriptive analys...   \n",
       "5  What technique is used in predictive analysis ...   \n",
       "6  What type of analysis would a flight booking s...   \n",
       "\n",
       "                                             Choices Correct Answer  \n",
       "0  a: Descriptive analysis | b: Diagnostic analys...              a  \n",
       "1  a: Descriptive analysis | b: Diagnostic analys...              b  \n",
       "2  a: Descriptive analysis | b: Diagnostic analys...              c  \n",
       "3  a: Descriptive analysis | b: Diagnostic analys...              d  \n",
       "4  a: Machine learning | b: Data mining | c: Fore...              a  \n",
       "5  a: Data discovery | b: Pattern matching | c: M...              c  \n",
       "6  a: Descriptive analysis | b: Diagnostic analys...              c  "
      ]
     },
     "execution_count": 62,
     "metadata": {},
     "output_type": "execute_result"
    }
   ],
   "source": [
    "df=pd.DataFrame(final_quiz_table)\n",
    "df"
   ]
  },
  {
   "cell_type": "code",
   "execution_count": 63,
   "metadata": {},
   "outputs": [],
   "source": [
    "df.to_csv(\"Data_Science_Quiz.csv\")"
   ]
  },
  {
   "cell_type": "code",
   "execution_count": null,
   "metadata": {},
   "outputs": [],
   "source": []
  }
 ],
 "metadata": {
  "kernelspec": {
   "display_name": "base",
   "language": "python",
   "name": "python3"
  },
  "language_info": {
   "codemirror_mode": {
    "name": "ipython",
    "version": 3
   },
   "file_extension": ".py",
   "mimetype": "text/x-python",
   "name": "python",
   "nbconvert_exporter": "python",
   "pygments_lexer": "ipython3",
   "version": "3.11.7"
  }
 },
 "nbformat": 4,
 "nbformat_minor": 2
}
